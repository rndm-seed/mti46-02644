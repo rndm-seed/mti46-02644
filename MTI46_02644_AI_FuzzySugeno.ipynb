{
  "nbformat": 4,
  "nbformat_minor": 0,
  "metadata": {
    "colab": {
      "provenance": [],
      "authorship_tag": "ABX9TyPdQdLPIa0D9ftJLIW6PDsf",
      "include_colab_link": true
    },
    "kernelspec": {
      "name": "python3",
      "display_name": "Python 3"
    },
    "language_info": {
      "name": "python"
    }
  },
  "cells": [
    {
      "cell_type": "markdown",
      "metadata": {
        "id": "view-in-github",
        "colab_type": "text"
      },
      "source": [
        "<a href=\"https://colab.research.google.com/github/rndm-seed/mti46-02644/blob/main/MTI46_02644_AI_FuzzySugeno.ipynb\" target=\"_parent\"><img src=\"https://colab.research.google.com/assets/colab-badge.svg\" alt=\"Open In Colab\"/></a>"
      ]
    },
    {
      "cell_type": "code",
      "execution_count": 9,
      "metadata": {
        "id": "_rnVHkFkkLkm",
        "outputId": "3cd7dc06-2926-4521-fb16-ed74f6f3cba9",
        "colab": {
          "base_uri": "https://localhost:8080/"
        }
      },
      "outputs": [
        {
          "output_type": "stream",
          "name": "stdout",
          "text": [
            "Suhu: Rendah\n",
            "Pencahayaan: Agak Terang\n",
            "Kebisingan: Tenang\n",
            "Produksi: 148.7\n"
          ]
        }
      ],
      "source": [
        "suhu = 20\n",
        "pencahayaan = 400\n",
        "kebisingan = 55\n",
        "\n",
        "def data_suhu(x):\n",
        "    # Rendah\n",
        "    if 18 <= x <= 22: rendah = (x - 18.0) / 4.0\n",
        "    elif 22< x <= 26: rendah = (26.0 - x) / 4.0\n",
        "    else: rendah = 0\n",
        "\n",
        "    # Normal\n",
        "    if 22 <= x <= 26: normal = (x - 22.0) / 4.0\n",
        "    elif 26 < x <= 32: normal = (32.0 - x) / 6.0\n",
        "    else: normal = 0\n",
        "\n",
        "    # Tinggi\n",
        "    if 26 <= x <= 32: tinggi = (x - 26.0) / 6.0\n",
        "    elif 32 < x <= 38: tinggi = (38.0 - x) / 6.0\n",
        "    else: tinggi = 0\n",
        "\n",
        "    return {'Rendah': rendah, 'Normal': normal, 'Tinggi': tinggi}\n",
        "\n",
        "def data_kebisingan(x):\n",
        "    # Tenang\n",
        "    if 35 <= x <= 55: tenang = (x - 35.0) / 20.0\n",
        "    elif 55 < x <= 75: tenang = (75.0 - x) / 20.0\n",
        "    else: tenang = 0\n",
        "\n",
        "    # Agak Bising\n",
        "    if 55 <= x <= 75: agak_bising = (x - 55.0) / 20.0\n",
        "    elif 75 < x <= 90: agak_bising = (90.0 - x) / 15.0\n",
        "    else: agak_bising = 0\n",
        "\n",
        "    # Bising\n",
        "    if 75 <= x <= 90: bising = (x - 75.0) / 15.0\n",
        "    elif 90 < x <= 105: bising = (105.0 - x) / 15.0\n",
        "    else: bising = 0\n",
        "\n",
        "    return {'Tenang': tenang, 'Agak Bising': agak_bising, 'Bising': bising}\n",
        "\n",
        "def data_pencahayaan(x):\n",
        "    # Redup\n",
        "    if 0 <= x <= 150: redup = x / 150.0\n",
        "    elif 150 < x <= 300: redup = (300 - x) / 150.0\n",
        "    else: redup = 0\n",
        "\n",
        "    # Agak Terang\n",
        "    if 150 <= x <= 350: agak_terang = (x - 150.0) / 150.0\n",
        "    elif 350 < x <= 500: agak_terang = (500.0 - x) / 200.0\n",
        "    else: agak_terang = 0\n",
        "\n",
        "    # Terang\n",
        "    if 300 <= x <= 500: terang = (x - 300.0) / 200.0\n",
        "    elif 500 < x <= 700: terang = (700.0 - x) / 200.0\n",
        "    else: terang = 0\n",
        "\n",
        "    return {'Redup': redup, 'Agak Terang': agak_terang, 'Terang': terang}\n",
        "\n",
        "nilai_suhu = data_suhu(suhu)\n",
        "nilai_pencahayaan = data_pencahayaan(pencahayaan)\n",
        "nilai_kebisingan = data_kebisingan(kebisingan)\n",
        "\n",
        "from itertools import product\n",
        "produksi_rules = {\n",
        "    ('Rendah', 'Redup', 'Tenang'): 148.0,\n",
        "    ('Rendah', 'Agak Terang', 'Tenang'): 150.9,\n",
        "    ('Rendah', 'Terang', 'Tenang'): 146.5,\n",
        "    ('Rendah', 'Redup', 'Agak Bising'): 143.1,\n",
        "    ('Rendah', 'Agak Terang', 'Agak Bising'): 146.53,\n",
        "    ('Rendah', 'Terang', 'Agak Bising'): 142.73,\n",
        "    ('Rendah', 'Redup', 'Bising'): 136.73,\n",
        "    ('Rendah', 'Agak Terang', 'Bising'): 140.77,\n",
        "    ('Rendah', 'Terang', 'Bising'): 135.97,\n",
        "    ('Normal', 'Redup', 'Tenang'): 149.73,\n",
        "    ('Normal', 'Agak Terang', 'Tenang'): 153.27,\n",
        "    ('Normal', 'Terang', 'Tenang'): 152.13,\n",
        "    ('Normal', 'Redup', 'Agak Bising'): 148,\n",
        "    ('Normal', 'Agak Terang', 'Agak Bising'): 150.63,\n",
        "    ('Normal', 'Terang', 'Agak Bising'): 147.63,\n",
        "    ('Normal', 'Redup', 'Bising'): 141.47,\n",
        "    ('Normal', 'Agak Terang', 'Bising'): 145.67,\n",
        "    ('Normal', 'Terang', 'Bising'): 140.2,\n",
        "    ('Tinggi', 'Redup', 'Tenang'): 142.10,\n",
        "    ('Tinggi', 'Agak Terang', 'Tenang'): 146.53,\n",
        "    ('Tinggi', 'Terang', 'Tenang'): 142.17,\n",
        "    ('Tinggi', 'Redup', 'Agak Bising'): 138.7,\n",
        "    ('Tinggi', 'Agak Terang', 'Agak Bising'): 141.4,\n",
        "    ('Tinggi', 'Terang', 'Agak Bising'): 138.3,\n",
        "    ('Tinggi', 'Redup', 'Bising'): 133.33,\n",
        "    ('Tinggi', 'Agak Terang', 'Bising'): 138.33,\n",
        "    ('Tinggi', 'Terang', 'Bising'): 133.77,\n",
        "}\n",
        "\n",
        "def compute_output():\n",
        "    temp1 = 0\n",
        "    temp2 = 0\n",
        "    for s, p, k in product(nilai_suhu.keys(), nilai_pencahayaan.keys(), nilai_kebisingan.keys()):\n",
        "        hasil = nilai_suhu[s] * nilai_pencahayaan[p] * nilai_kebisingan[k]\n",
        "        jumlah = produksi_rules.get((s, p, k), 140)  #140 nilai default\n",
        "        temp1 += hasil * jumlah\n",
        "        temp2 += hasil\n",
        "    return temp1 / temp2\n",
        "\n",
        "produksi = compute_output()\n",
        "\n",
        "hasil_suhu = max(nilai_suhu, key=nilai_suhu.get)\n",
        "hasil_pencahayaan = max(nilai_pencahayaan, key=nilai_pencahayaan.get)\n",
        "hasil_kebisingan = max(nilai_kebisingan, key=nilai_kebisingan.get)\n",
        "\n",
        "print(\"Suhu: \"+hasil_suhu)\n",
        "print(\"Pencahayaan: \"+hasil_pencahayaan)\n",
        "print(\"Kebisingan: \"+hasil_kebisingan)\n",
        "print(f\"Produksi: {produksi}\")\n"
      ]
    }
  ]
}